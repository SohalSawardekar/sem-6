{
 "cells": [
  {
   "cell_type": "code",
   "execution_count": 2,
   "metadata": {},
   "outputs": [
    {
     "name": "stdout",
     "output_type": "stream",
     "text": [
      "Enter edges (format: node1 node2). Type 'done' when finished:\n",
      "Invalid format! Enter the edge as 'node1 node2'.\n",
      "BFS starting from node a: ['a', 'b', 'c', 'd', 'e']\n"
     ]
    }
   ],
   "source": [
    "from collections import deque\n",
    "\n",
    "class Graph:\n",
    "    def __init__(self):\n",
    "        self.graph = {}  # Initialize an empty adjacency list\n",
    "\n",
    "    def add_node(self, node):\n",
    "        if node not in self.graph:\n",
    "            self.graph[node] = []\n",
    "\n",
    "    def add_edge(self, node1, node2):\n",
    "        if node1 not in self.graph:\n",
    "            self.add_node(node1)\n",
    "        if node2 not in self.graph:\n",
    "            self.add_node(node2)\n",
    "        self.graph[node1].append(node2)\n",
    "        self.graph[node2].append(node1)  # Remove this line for a directed graph\n",
    "\n",
    "    def bfs(self, start):\n",
    "        if start not in self.graph:\n",
    "            return []  # Return empty if the start node is not in the graph\n",
    "\n",
    "        visited = set()         # Set to keep track of visited nodes\n",
    "        queue = deque([start])  # Initialize a queue with the start node\n",
    "        order = []              # List to store the BFS traversal order\n",
    "\n",
    "        while queue:\n",
    "            node = queue.popleft()\n",
    "            if node not in visited:\n",
    "                visited.add(node)\n",
    "                order.append(node)\n",
    "                # Add unvisited neighbors to the queue\n",
    "                for neighbor in self.graph[node]:\n",
    "                    if neighbor not in visited:\n",
    "                        queue.append(neighbor)\n",
    "\n",
    "        return order\n",
    "\n",
    "\n",
    "# Main Program\n",
    "if __name__ == \"__main__\":\n",
    "    g = Graph()\n",
    "\n",
    "    # Take user input for the graph\n",
    "    print(\"Enter edges (format: node1 node2). Type 'done' when finished:\")\n",
    "    while True:\n",
    "        edge = input(\"Edge: \")\n",
    "        if edge.lower() == \"done\":\n",
    "            break\n",
    "        try:\n",
    "            node1, node2 = edge.split()\n",
    "            g.add_edge(node1, node2)\n",
    "        except ValueError:\n",
    "            print(\"Invalid format! Enter the edge as 'node1 node2'.\")\n",
    "\n",
    "    start_node = input(\"Enter the starting node for BFS: \")\n",
    "\n",
    "    # Perform BFS and display the result\n",
    "    bfs_result = g.bfs(start_node)\n",
    "    if bfs_result:\n",
    "        print(f\"BFS starting from node {start_node}: {bfs_result}\")\n",
    "    else:\n",
    "        print(f\"Node {start_node} is not in the graph.\")\n"
   ]
  }
 ],
 "metadata": {
  "kernelspec": {
   "display_name": "Python 3",
   "language": "python",
   "name": "python3"
  },
  "language_info": {
   "codemirror_mode": {
    "name": "ipython",
    "version": 3
   },
   "file_extension": ".py",
   "mimetype": "text/x-python",
   "name": "python",
   "nbconvert_exporter": "python",
   "pygments_lexer": "ipython3",
   "version": "3.11.9"
  }
 },
 "nbformat": 4,
 "nbformat_minor": 2
}
